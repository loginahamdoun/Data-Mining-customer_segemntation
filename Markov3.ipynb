{
  "cells": [
    {
      "cell_type": "markdown",
      "metadata": {
        "id": "view-in-github",
        "colab_type": "text"
      },
      "source": [
        "<a href=\"https://colab.research.google.com/github/loginahamdoun/Data-Mining-customer_segemntation/blob/main/Markov3.ipynb\" target=\"_parent\"><img src=\"https://colab.research.google.com/assets/colab-badge.svg\" alt=\"Open In Colab\"/></a>"
      ]
    },
    {
      "cell_type": "code",
      "execution_count": null,
      "id": "d20b37e9",
      "metadata": {
        "id": "d20b37e9"
      },
      "outputs": [],
      "source": [
        "import numpy as np\n",
        "import pandas as pd\n",
        "import random\n",
        "import matplotlib.pyplot as plt\n",
        ""
      ]
    },
    {
      "cell_type": "code",
      "execution_count": null,
      "id": "2b569d12",
      "metadata": {
        "id": "2b569d12"
      },
      "outputs": [],
      "source": [
        "mc_example = {'healthy': [0.7, 0.3, 0.1],\n",
        "              'prediabetic': [0.2, 0.5, 0.3],\n",
        "              'diabetic': [0.1, 0.2, 0.6]}\n",
        "\n",
        "mc = pd.DataFrame(data = mc_example, index = ['healthy', 'prediabetic', 'diabetic'])"
      ]
    },
    {
      "cell_type": "code",
      "execution_count": null,
      "id": "ddc651a9",
      "metadata": {
        "id": "ddc651a9"
      },
      "outputs": [],
      "source": [
        "health_sim = []\n",
        "health_sim.append(mc.iloc[0].index[0])\n",
        "health_status = np.random.choice(mc.iloc[0].index, p = mc.iloc[0])\n",
        "health_sim.append(health_status)\n",
        "\n",
        "while len(health_sim) < 5:\n",
        "  health_status = np.random.choice(mc.iloc[mc.index.get_loc(health_status)].index, p = mc.iloc[mc.index.get_loc(health_status)])\n",
        "  health_sim.append(health_status)"
      ]
    },
    {
      "cell_type": "code",
      "execution_count": null,
      "id": "36a4a050",
      "metadata": {
        "colab": {
          "base_uri": "https://localhost:8080/"
        },
        "id": "36a4a050",
        "outputId": "ab20580e-fea5-4094-c3f1-1283b224f346"
      },
      "outputs": [
        {
          "output_type": "execute_result",
          "data": {
            "text/plain": [
              "['healthy', 'healthy', 'healthy', 'healthy', 'healthy']"
            ]
          },
          "metadata": {},
          "execution_count": 9
        }
      ],
      "source": [
        "health_sim\n"
      ]
    },
    {
      "cell_type": "markdown",
      "id": "b5f676be",
      "metadata": {
        "id": "b5f676be"
      },
      "source": [
        "# Transition probabilities for the Markov model\n",
        "transition_probs = np.array([[0.7, 0.2, 0.1],  # from healthy\n",
        "                             [0.3, 0.5, 0.2],  # from prediabetic\n",
        "                             [0.1, 0.3, 0.6]]) # from diabetic"
      ]
    },
    {
      "cell_type": "code",
      "execution_count": null,
      "id": "030592fe",
      "metadata": {
        "colab": {
          "base_uri": "https://localhost:8080/",
          "height": 143
        },
        "id": "030592fe",
        "outputId": "bba64298-f4b5-4a5f-842e-8dc9929907d4"
      },
      "outputs": [
        {
          "output_type": "execute_result",
          "data": {
            "text/plain": [
              "             healthy  prediabetic  diabetic\n",
              "healthy          0.7          0.2       0.1\n",
              "prediabetic      0.3          0.5       0.2\n",
              "diabetic         0.1          0.3       0.6"
            ],
            "text/html": [
              "\n",
              "  <div id=\"df-26d53337-185c-44d9-bab0-b49cb3c5b6c8\">\n",
              "    <div class=\"colab-df-container\">\n",
              "      <div>\n",
              "<style scoped>\n",
              "    .dataframe tbody tr th:only-of-type {\n",
              "        vertical-align: middle;\n",
              "    }\n",
              "\n",
              "    .dataframe tbody tr th {\n",
              "        vertical-align: top;\n",
              "    }\n",
              "\n",
              "    .dataframe thead th {\n",
              "        text-align: right;\n",
              "    }\n",
              "</style>\n",
              "<table border=\"1\" class=\"dataframe\">\n",
              "  <thead>\n",
              "    <tr style=\"text-align: right;\">\n",
              "      <th></th>\n",
              "      <th>healthy</th>\n",
              "      <th>prediabetic</th>\n",
              "      <th>diabetic</th>\n",
              "    </tr>\n",
              "  </thead>\n",
              "  <tbody>\n",
              "    <tr>\n",
              "      <th>healthy</th>\n",
              "      <td>0.7</td>\n",
              "      <td>0.2</td>\n",
              "      <td>0.1</td>\n",
              "    </tr>\n",
              "    <tr>\n",
              "      <th>prediabetic</th>\n",
              "      <td>0.3</td>\n",
              "      <td>0.5</td>\n",
              "      <td>0.2</td>\n",
              "    </tr>\n",
              "    <tr>\n",
              "      <th>diabetic</th>\n",
              "      <td>0.1</td>\n",
              "      <td>0.3</td>\n",
              "      <td>0.6</td>\n",
              "    </tr>\n",
              "  </tbody>\n",
              "</table>\n",
              "</div>\n",
              "      <button class=\"colab-df-convert\" onclick=\"convertToInteractive('df-26d53337-185c-44d9-bab0-b49cb3c5b6c8')\"\n",
              "              title=\"Convert this dataframe to an interactive table.\"\n",
              "              style=\"display:none;\">\n",
              "        \n",
              "  <svg xmlns=\"http://www.w3.org/2000/svg\" height=\"24px\"viewBox=\"0 0 24 24\"\n",
              "       width=\"24px\">\n",
              "    <path d=\"M0 0h24v24H0V0z\" fill=\"none\"/>\n",
              "    <path d=\"M18.56 5.44l.94 2.06.94-2.06 2.06-.94-2.06-.94-.94-2.06-.94 2.06-2.06.94zm-11 1L8.5 8.5l.94-2.06 2.06-.94-2.06-.94L8.5 2.5l-.94 2.06-2.06.94zm10 10l.94 2.06.94-2.06 2.06-.94-2.06-.94-.94-2.06-.94 2.06-2.06.94z\"/><path d=\"M17.41 7.96l-1.37-1.37c-.4-.4-.92-.59-1.43-.59-.52 0-1.04.2-1.43.59L10.3 9.45l-7.72 7.72c-.78.78-.78 2.05 0 2.83L4 21.41c.39.39.9.59 1.41.59.51 0 1.02-.2 1.41-.59l7.78-7.78 2.81-2.81c.8-.78.8-2.07 0-2.86zM5.41 20L4 18.59l7.72-7.72 1.47 1.35L5.41 20z\"/>\n",
              "  </svg>\n",
              "      </button>\n",
              "      \n",
              "  <style>\n",
              "    .colab-df-container {\n",
              "      display:flex;\n",
              "      flex-wrap:wrap;\n",
              "      gap: 12px;\n",
              "    }\n",
              "\n",
              "    .colab-df-convert {\n",
              "      background-color: #E8F0FE;\n",
              "      border: none;\n",
              "      border-radius: 50%;\n",
              "      cursor: pointer;\n",
              "      display: none;\n",
              "      fill: #1967D2;\n",
              "      height: 32px;\n",
              "      padding: 0 0 0 0;\n",
              "      width: 32px;\n",
              "    }\n",
              "\n",
              "    .colab-df-convert:hover {\n",
              "      background-color: #E2EBFA;\n",
              "      box-shadow: 0px 1px 2px rgba(60, 64, 67, 0.3), 0px 1px 3px 1px rgba(60, 64, 67, 0.15);\n",
              "      fill: #174EA6;\n",
              "    }\n",
              "\n",
              "    [theme=dark] .colab-df-convert {\n",
              "      background-color: #3B4455;\n",
              "      fill: #D2E3FC;\n",
              "    }\n",
              "\n",
              "    [theme=dark] .colab-df-convert:hover {\n",
              "      background-color: #434B5C;\n",
              "      box-shadow: 0px 1px 3px 1px rgba(0, 0, 0, 0.15);\n",
              "      filter: drop-shadow(0px 1px 2px rgba(0, 0, 0, 0.3));\n",
              "      fill: #FFFFFF;\n",
              "    }\n",
              "  </style>\n",
              "\n",
              "      <script>\n",
              "        const buttonEl =\n",
              "          document.querySelector('#df-26d53337-185c-44d9-bab0-b49cb3c5b6c8 button.colab-df-convert');\n",
              "        buttonEl.style.display =\n",
              "          google.colab.kernel.accessAllowed ? 'block' : 'none';\n",
              "\n",
              "        async function convertToInteractive(key) {\n",
              "          const element = document.querySelector('#df-26d53337-185c-44d9-bab0-b49cb3c5b6c8');\n",
              "          const dataTable =\n",
              "            await google.colab.kernel.invokeFunction('convertToInteractive',\n",
              "                                                     [key], {});\n",
              "          if (!dataTable) return;\n",
              "\n",
              "          const docLinkHtml = 'Like what you see? Visit the ' +\n",
              "            '<a target=\"_blank\" href=https://colab.research.google.com/notebooks/data_table.ipynb>data table notebook</a>'\n",
              "            + ' to learn more about interactive tables.';\n",
              "          element.innerHTML = '';\n",
              "          dataTable['output_type'] = 'display_data';\n",
              "          await google.colab.output.renderOutput(dataTable, element);\n",
              "          const docLink = document.createElement('div');\n",
              "          docLink.innerHTML = docLinkHtml;\n",
              "          element.appendChild(docLink);\n",
              "        }\n",
              "      </script>\n",
              "    </div>\n",
              "  </div>\n",
              "  "
            ]
          },
          "metadata": {},
          "execution_count": 10
        }
      ],
      "source": [
        "mc\n"
      ]
    },
    {
      "cell_type": "code",
      "execution_count": null,
      "id": "7020930a",
      "metadata": {
        "colab": {
          "base_uri": "https://localhost:8080/"
        },
        "id": "7020930a",
        "outputId": "edbb0d70-d5f2-4201-b838-f9f9f8db76a7"
      },
      "outputs": [
        {
          "output_type": "execute_result",
          "data": {
            "text/plain": [
              "array([[0.7, 0.2, 0.1],\n",
              "       [0.3, 0.5, 0.2],\n",
              "       [0.1, 0.3, 0.6]])"
            ]
          },
          "metadata": {},
          "execution_count": 11
        }
      ],
      "source": [
        "mc.to_numpy()\n"
      ]
    },
    {
      "cell_type": "code",
      "execution_count": null,
      "id": "57b451a5",
      "metadata": {
        "id": "57b451a5"
      },
      "outputs": [],
      "source": [
        "def matrix_power(matrix, power):\n",
        "  if power == 0:\n",
        "    return np.identity(len(matrix))\n",
        "  elif power == 1:\n",
        "    return matrix\n",
        "  else:\n",
        "    return np.dot(matrix, matrix_power(matrix, power-1))\n",
        ""
      ]
    },
    {
      "cell_type": "code",
      "execution_count": null,
      "id": "0e6b63de",
      "metadata": {
        "colab": {
          "base_uri": "https://localhost:8080/"
        },
        "id": "0e6b63de",
        "outputId": "e1ef444c-2d5c-4279-f678-9db2e0c9186d"
      },
      "outputs": [
        {
          "output_type": "execute_result",
          "data": {
            "text/plain": [
              "array([[0.56, 0.27, 0.17],\n",
              "       [0.38, 0.37, 0.25],\n",
              "       [0.22, 0.35, 0.43]])"
            ]
          },
          "metadata": {},
          "execution_count": 21
        }
      ],
      "source": [
        "matrix_power(mc.to_numpy(), 2)"
      ]
    },
    {
      "cell_type": "code",
      "execution_count": null,
      "id": "e17653d3",
      "metadata": {
        "id": "e17653d3",
        "outputId": "1116f317-8731-4d92-ad32-6edca5574190",
        "colab": {
          "base_uri": "https://localhost:8080/"
        }
      },
      "outputs": [
        {
          "output_type": "execute_result",
          "data": {
            "text/plain": [
              "array([[0.49 , 0.298, 0.212],\n",
              "       [0.402, 0.336, 0.262],\n",
              "       [0.302, 0.348, 0.35 ]])"
            ]
          },
          "metadata": {},
          "execution_count": 22
        }
      ],
      "source": [
        "np.dot(np.dot(mc.to_numpy(), mc.to_numpy()), mc.to_numpy())\n"
      ]
    },
    {
      "cell_type": "code",
      "execution_count": null,
      "id": "8f670d8c",
      "metadata": {
        "id": "8f670d8c",
        "outputId": "c0e8570c-9bca-411d-8263-eee1fd35564b",
        "colab": {
          "base_uri": "https://localhost:8080/"
        }
      },
      "outputs": [
        {
          "output_type": "execute_result",
          "data": {
            "text/plain": [
              "array([[0.56, 0.27, 0.17],\n",
              "       [0.38, 0.37, 0.25],\n",
              "       [0.22, 0.35, 0.43]])"
            ]
          },
          "metadata": {},
          "execution_count": 23
        }
      ],
      "source": [
        "np.dot(mc.to_numpy(), mc.to_numpy())\n"
      ]
    },
    {
      "cell_type": "code",
      "execution_count": null,
      "id": "e7ae4682",
      "metadata": {
        "id": "e7ae4682",
        "outputId": "e7a45320-07eb-4b07-c66d-db3fc02cfb09",
        "colab": {
          "base_uri": "https://localhost:8080/"
        }
      },
      "outputs": [
        {
          "output_type": "execute_result",
          "data": {
            "text/plain": [
              "array([1., 1., 1.])"
            ]
          },
          "metadata": {},
          "execution_count": 28
        }
      ],
      "source": [
        "matrix_power(mc.to_numpy(), 3).sum(axis=1)\n"
      ]
    },
    {
      "cell_type": "code",
      "execution_count": null,
      "id": "4d67426c",
      "metadata": {
        "id": "4d67426c",
        "outputId": "b705b4a5-5314-40b1-ea18-7b59da58376b",
        "colab": {
          "base_uri": "https://localhost:8080/"
        }
      },
      "outputs": [
        {
          "output_type": "stream",
          "name": "stdout",
          "text": [
            "n Step Transition Matrix at the nth power 1\n",
            " [[0.7 0.2 0.1]\n",
            " [0.3 0.5 0.2]\n",
            " [0.1 0.3 0.6]] \n",
            "\n",
            "n Step Transition Matrix at the nth power 2\n",
            " [[0.56 0.27 0.17]\n",
            " [0.38 0.37 0.25]\n",
            " [0.22 0.35 0.43]] \n",
            "\n",
            "n Step Transition Matrix at the nth power 3\n",
            " [[0.49  0.298 0.212]\n",
            " [0.402 0.336 0.262]\n",
            " [0.302 0.348 0.35 ]] \n",
            "\n",
            "n Step Transition Matrix at the nth power 4\n",
            " [[0.4536 0.3106 0.2358]\n",
            " [0.4084 0.327  0.2646]\n",
            " [0.3508 0.3394 0.3098]] \n",
            "\n",
            "n Step Transition Matrix at the nth power 5\n",
            " [[0.43428 0.31676 0.24896]\n",
            " [0.41044 0.32456 0.265  ]\n",
            " [0.37836 0.3328  0.28884]] \n",
            "\n",
            "n Step Transition Matrix at the nth power 6\n",
            " [[0.42392  0.319924 0.256156]\n",
            " [0.411176 0.323868 0.264956]\n",
            " [0.393576 0.328724 0.2777  ]] \n",
            "\n",
            "n Step Transition Matrix at the nth power 7\n",
            " [[0.4183368 0.3215928 0.2600704]\n",
            " [0.4114792 0.323656  0.2648648]\n",
            " [0.4018904 0.3263872 0.2717224]] \n",
            "\n",
            "n Step Transition Matrix at the nth power 8\n",
            " [[0.41532064 0.32248488 0.26219448]\n",
            " [0.41161872 0.32358328 0.264798  ]\n",
            " [0.40641168 0.3250884  0.26849992]] \n",
            "\n",
            "n Step Transition Matrix at the nth power 9\n",
            " [[0.41368936 0.32296491 0.26334573]\n",
            " [0.41168789 0.32355478 0.26475733]\n",
            " [0.40886469 0.32437651 0.2667588 ]] \n",
            "\n"
          ]
        }
      ],
      "source": [
        "for i in range(1,10,1):\n",
        "  print(f'n Step Transition Matrix at the nth power {i}\\n', matrix_power(mc.to_numpy(), i),'\\n')"
      ]
    },
    {
      "cell_type": "code",
      "execution_count": null,
      "id": "9fc67b00",
      "metadata": {
        "id": "9fc67b00",
        "outputId": "1b05c751-0b87-4f20-f793-facc61290f94",
        "colab": {
          "base_uri": "https://localhost:8080/"
        }
      },
      "outputs": [
        {
          "output_type": "execute_result",
          "data": {
            "text/plain": [
              "array([0.49 , 0.298, 0.212])"
            ]
          },
          "metadata": {},
          "execution_count": 31
        }
      ],
      "source": [
        "initial_dist = np.asarray([0.7, 0.2, 0.1])\n",
        "\n",
        "mc_p2 = matrix_power(mc.to_numpy(),2)\n",
        "\n",
        "np.dot(initial_dist,mc_p2)"
      ]
    },
    {
      "cell_type": "code",
      "execution_count": null,
      "id": "c9e7be1c",
      "metadata": {
        "id": "c9e7be1c"
      },
      "outputs": [],
      "source": []
    }
  ],
  "metadata": {
    "kernelspec": {
      "display_name": "Python 3",
      "language": "python",
      "name": "python3"
    },
    "language_info": {
      "codemirror_mode": {
        "name": "ipython",
        "version": 3
      },
      "file_extension": ".py",
      "mimetype": "text/x-python",
      "name": "python",
      "nbconvert_exporter": "python",
      "pygments_lexer": "ipython3",
      "version": "3.8.8"
    },
    "colab": {
      "provenance": [],
      "include_colab_link": true
    }
  },
  "nbformat": 4,
  "nbformat_minor": 5
}